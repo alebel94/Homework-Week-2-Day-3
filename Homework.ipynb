{
 "cells": [
  {
   "cell_type": "markdown",
   "metadata": {},
   "source": [
    "# Exercises"
   ]
  },
  {
   "cell_type": "markdown",
   "metadata": {},
   "source": [
    "### 1) Build a Shopping Cart <br>\n",
    "<p><b>You can use either lists or dictionaries. The program should have the following capabilities:</b><br><br>\n",
    "1) Takes in input <br>\n",
    "2) Stores user input into a dictionary or list <br>\n",
    "3) The User can add or delete items <br>\n",
    "4) The User can see current shopping list <br>\n",
    "5) The program Loops until user 'quits' <br>\n",
    "6) Upon quiting the program, print out all items in the user's list <br>\n",
    "</p>"
   ]
  },
  {
   "cell_type": "code",
   "execution_count": 22,
   "metadata": {},
   "outputs": [
    {
     "name": "stdout",
     "output_type": "stream",
     "text": [
      "bread has been added with notes: rye\n",
      "garlic has been added with notes: 3 \n",
      "show has been added with notes: show\n"
     ]
    }
   ],
   "source": [
    "### MY FIRST ATTEMPT\n",
    "\n",
    "from IPython.display import clear_output\n",
    "\n",
    "def options():\n",
    "    item = input('Welcome to Amazone, please Add an item or Show/Delete/Clear or \"Quit\" your cart? ')\n",
    "    notes = input('Add notes to your item? ')\n",
    "    clear_output()\n",
    "    return item, notes\n",
    "\n",
    "def storeInfo():\n",
    "    cart = {} \n",
    "    \n",
    "    while True:\n",
    "        item, notes = options()\n",
    "        for key, value in cart.items(): \n",
    "            print(f'{key} has been added with notes: {value}') \n",
    "        if item.lower() == 'show' or notes.lower() == 'show':\n",
    "            print(cart)\n",
    "        elif item.lower() == 'quit' or notes.lower() == 'quit': \n",
    "            break \n",
    "        elif item.lower() == 'delete' or notes.lower() == 'delete':\n",
    "            del cart['key']\n",
    "           \n",
    "        cart[item] = notes\n",
    "        \n",
    "storeInfo() \n",
    "    \n",
    "\n",
    "\n",
    "# Ask the user four bits of input: Do you want to : Show/Add/Delete/Clear or Quit?\n"
   ]
  },
  {
   "cell_type": "code",
   "execution_count": 21,
   "metadata": {},
   "outputs": [
    {
     "name": "stdout",
     "output_type": "stream",
     "text": [
      "Welcome to Amazone, please Add an item or Show/Delete/Clear or \"Quit\" your cart? add\n",
      "Which item to add? bread\n",
      "How many of these items to add? 5\n",
      "Welcome to Amazone, please Add an item or Show/Delete/Clear or \"Quit\" your cart? garlic\n",
      "bread has been added with notes: 5\n",
      "Welcome to Amazone, please Add an item or Show/Delete/Clear or \"Quit\" your cart? 2\n",
      "bread has been added with notes: 5\n",
      "Welcome to Amazone, please Add an item or Show/Delete/Clear or \"Quit\" your cart? show\n",
      "bread has been added with notes: 5\n",
      "{'bread': '5'}\n",
      "Welcome to Amazone, please Add an item or Show/Delete/Clear or \"Quit\" your cart? quit\n",
      "bread has been added with notes: 5\n"
     ]
    }
   ],
   "source": [
    "#### HELP WITH NATE WELTER\n",
    "\n",
    "from IPython.display import clear_output\n",
    "\n",
    "def storeInfo():\n",
    "    cart = {} \n",
    "    \n",
    "    while True:\n",
    "        options = input('Welcome to Amazone, please Add an item or Show/Delete/Clear or \"Quit\" your cart? ')\n",
    "        for key, value in cart.items(): \n",
    "            print(f'{key} has been added with notes: {value}') \n",
    "        if options.lower() == 'add':\n",
    "            item = input('Which item to add? ')\n",
    "            item_count = input('How many of these items to add? ')\n",
    "            cart[item] = item_count\n",
    "        elif options.lower() == 'show':\n",
    "            print(cart)\n",
    "        elif options.lower() == 'quit': \n",
    "            break \n",
    "        elif options.lower() == 'delete':\n",
    "            del_item = input(\"Which item to delete? \")\n",
    "            del cart[\"del_item\"]\n",
    "                  \n",
    "storeInfo() \n",
    "    \n",
    "\n",
    "\n",
    "# Ask the user four bits of input: Do you want to : Show/Add/Delete/Clear or Quit?\n"
   ]
  },
  {
   "cell_type": "markdown",
   "metadata": {},
   "source": [
    "2) Create a Module in VS Code and Import It into jupyter notebook\n",
    "Module should have the following capabilities:\n",
    "\n",
    "1) Has a function to calculate the square footage of a house\n",
    "Reminder of Formula: Length X Width == Area\n",
    "\n",
    "2) Has a function to calculate the circumference of a circle\n",
    "\n",
    "Program in Jupyter Notebook should take in user input and use imported functions to calculate a circle's circumference or a houses square footage"
   ]
  },
  {
   "cell_type": "code",
   "execution_count": 1,
   "metadata": {},
   "outputs": [],
   "source": [
    "# Alemath the module!\n",
    "# This is a module that allows the ease for calculating suqre are and circumference\n",
    "\n",
    "from math import pi\n",
    "   \n",
    "def area_sqr(length, width): \n",
    "    return length * width\n",
    "        \n",
    "    \n",
    "#area_sqr(6,7)\n",
    "\n",
    "# print(area_sqr(6,7)) #test\n",
    "\n",
    "def circum(radius):    \n",
    "    return 2 * pi * radius\n",
    "    \n",
    "#print(circum(23))#test\n",
    "    \n"
   ]
  },
  {
   "cell_type": "code",
   "execution_count": 2,
   "metadata": {},
   "outputs": [
    {
     "name": "stdout",
     "output_type": "stream",
     "text": [
      "My house is 21888 feet squared and my pool is 50.26548245743669 feet squared!\n"
     ]
    }
   ],
   "source": [
    "# I want to selly my house but I need to know the size\n",
    "# My house is 192 ft x 114 ft\n",
    "# My pool is circular and it has a radius of 8 ft\n",
    "# Thankfully there is a module to help called Alemath\n",
    "\n",
    "\n",
    "print(f'My house is {area_sqr(192, 114)} feet squared and my pool is {circum(8)} feet squared!')\n",
    "\n",
    "\n"
   ]
  }
 ],
 "metadata": {
  "kernelspec": {
   "display_name": "Python 3",
   "language": "python",
   "name": "python3"
  },
  "language_info": {
   "codemirror_mode": {
    "name": "ipython",
    "version": 3
   },
   "file_extension": ".py",
   "mimetype": "text/x-python",
   "name": "python",
   "nbconvert_exporter": "python",
   "pygments_lexer": "ipython3",
   "version": "3.8.5"
  }
 },
 "nbformat": 4,
 "nbformat_minor": 4
}
